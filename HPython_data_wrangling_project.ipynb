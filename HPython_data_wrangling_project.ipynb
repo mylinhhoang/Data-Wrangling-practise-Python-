{
 "cells": [
  {
   "cell_type": "code",
   "execution_count": 1,
   "id": "4659b32a",
   "metadata": {},
   "outputs": [
    {
     "name": "stdout",
     "output_type": "stream",
     "text": [
      "     product_id     ordered_at  quantity_ordered\n",
      "0       3998909  9/18/18 17:51                 1\n",
      "1       3998909  9/18/18 12:52                 1\n",
      "2       3998909  9/18/18 11:33                 1\n",
      "3       3998909  9/18/18 18:47                 1\n",
      "4       3998909  9/18/18 17:36                 1\n",
      "..          ...            ...               ...\n",
      "170     4085861  9/13/18 23:29                 1\n",
      "171          64  9/11/18 19:32                 1\n",
      "172          64  9/14/18 20:10                 1\n",
      "173          64  9/12/18 16:00                 1\n",
      "174          64  9/12/18 13:23                 1\n",
      "\n",
      "[175 rows x 3 columns]\n",
      "    product_id  old_price  new_price     updated_at\n",
      "0           64     270000     239000  9/10/18 16:37\n",
      "1      3954203      60000      64000  9/11/18 11:54\n",
      "2      3954203      60500      57500  9/17/18 22:59\n",
      "3      3954203      64000      60500   9/15/18 3:49\n",
      "4      3954203      68800      60000  9/10/18 16:32\n",
      "5      3998909      15500      16500   9/16/18 5:09\n",
      "6      3998909      17000      15500   9/13/18 6:43\n",
      "7      3998909      19000      17000  9/10/18 16:35\n",
      "8      4085861      53500      52000  9/17/18 22:59\n",
      "9      4085861      53500      67000   9/12/18 3:51\n",
      "10     4085861      58000      53500   9/17/18 3:35\n",
      "11     4085861      60000      53500   9/11/18 8:51\n",
      "12     4085861      62500      58000   9/15/18 3:51\n",
      "13     4085861      67000      62500   9/13/18 6:43\n"
     ]
    }
   ],
   "source": [
    "import pandas as pd\n",
    "sales = pd.read_csv(r'C:\\Users\\Admin\\Documents\\DAC Hoang Thi My Linh\\Python\\Data Wrangling Practise\\Data Wrangling Practise\\sales.csv')\n",
    "prices = pd.read_csv(r'C:\\Users\\Admin\\Documents\\DAC Hoang Thi My Linh\\Python\\Data Wrangling Practise\\Data Wrangling Practise\\prices.csv')\n",
    "print(sales)\n",
    "print(prices)"
   ]
  },
  {
   "cell_type": "code",
   "execution_count": 2,
   "id": "98f91671",
   "metadata": {},
   "outputs": [
    {
     "name": "stdout",
     "output_type": "stream",
     "text": [
      "     product_id     ordered_at  quantity_ordered  old_price  new_price  \\\n",
      "0       3998909  9/18/18 17:51                 1      15500      16500   \n",
      "1       3998909  9/18/18 17:51                 1      17000      15500   \n",
      "2       3998909  9/18/18 17:51                 1      19000      17000   \n",
      "3       3998909  9/18/18 12:52                 1      15500      16500   \n",
      "4       3998909  9/18/18 12:52                 1      17000      15500   \n",
      "..          ...            ...               ...        ...        ...   \n",
      "949     4085861  9/13/18 23:29                 1      67000      62500   \n",
      "950          64  9/11/18 19:32                 1     270000     239000   \n",
      "951          64  9/14/18 20:10                 1     270000     239000   \n",
      "952          64  9/12/18 16:00                 1     270000     239000   \n",
      "953          64  9/12/18 13:23                 1     270000     239000   \n",
      "\n",
      "        updated_at  \n",
      "0     9/16/18 5:09  \n",
      "1     9/13/18 6:43  \n",
      "2    9/10/18 16:35  \n",
      "3     9/16/18 5:09  \n",
      "4     9/13/18 6:43  \n",
      "..             ...  \n",
      "949   9/13/18 6:43  \n",
      "950  9/10/18 16:37  \n",
      "951  9/10/18 16:37  \n",
      "952  9/10/18 16:37  \n",
      "953  9/10/18 16:37  \n",
      "\n",
      "[954 rows x 6 columns]\n"
     ]
    }
   ],
   "source": [
    "#merge two tables on product_id\n",
    "join_table= pd.merge(sales,prices, on = 'product_id')\n",
    "print(join_table)"
   ]
  },
  {
   "cell_type": "code",
   "execution_count": 3,
   "id": "1f39241c",
   "metadata": {
    "scrolled": true
   },
   "outputs": [
    {
     "name": "stdout",
     "output_type": "stream",
     "text": [
      "     product_id     ordered_at  quantity_ordered  old_price  new_price  \\\n",
      "0       3998909  9/18/18 17:51                 1      15500      16500   \n",
      "1       3998909  9/18/18 17:51                 1      17000      15500   \n",
      "2       3998909  9/18/18 17:51                 1      19000      17000   \n",
      "3       3998909  9/18/18 12:52                 1      15500      16500   \n",
      "4       3998909  9/18/18 12:52                 1      17000      15500   \n",
      "..          ...            ...               ...        ...        ...   \n",
      "949     4085861  9/13/18 23:29                 1      67000      62500   \n",
      "950          64  9/11/18 19:32                 1     270000     239000   \n",
      "951          64  9/14/18 20:10                 1     270000     239000   \n",
      "952          64  9/12/18 16:00                 1     270000     239000   \n",
      "953          64  9/12/18 13:23                 1     270000     239000   \n",
      "\n",
      "        updated_at  diff_days  abs_diff_days  \n",
      "0     9/16/18 5:09   2.529167       2.529167  \n",
      "1     9/13/18 6:43   5.463889       5.463889  \n",
      "2    9/10/18 16:35   8.052778       8.052778  \n",
      "3     9/16/18 5:09   2.321528       2.321528  \n",
      "4     9/13/18 6:43   5.256250       5.256250  \n",
      "..             ...        ...            ...  \n",
      "949   9/13/18 6:43   0.698611       0.698611  \n",
      "950  9/10/18 16:37   1.121528       1.121528  \n",
      "951  9/10/18 16:37   4.147917       4.147917  \n",
      "952  9/10/18 16:37   1.974306       1.974306  \n",
      "953  9/10/18 16:37   1.865278       1.865278  \n",
      "\n",
      "[954 rows x 8 columns]\n"
     ]
    }
   ],
   "source": [
    "#calculate differences between ordered_date and updated_date\n",
    "import numpy as np\n",
    "join_table['diff_days']= (pd.to_datetime(join_table.loc[:,'ordered_at'])-pd.to_datetime(join_table.loc[:,'updated_at']))/np.timedelta64(1, 'D')\n",
    "join_table['abs_diff_days'] = join_table['diff_days'].abs()\n",
    "print(join_table)"
   ]
  },
  {
   "cell_type": "code",
   "execution_count": 4,
   "id": "63bb8c00",
   "metadata": {},
   "outputs": [
    {
     "name": "stdout",
     "output_type": "stream",
     "text": [
      "                                           abs_diff_days\n",
      "product_id ordered_at    quantity_ordered               \n",
      "64         9/11/18 19:32 1                      1.121528\n",
      "           9/12/18 13:23 1                      1.865278\n",
      "           9/12/18 16:00 1                      1.974306\n",
      "           9/14/18 20:10 1                      4.147917\n",
      "3954203    9/11/18 11:11 1                      0.029861\n",
      "...                                                  ...\n",
      "4085861    9/18/18 20:54 1                      0.913194\n",
      "           9/18/18 6:47  1                      0.325000\n",
      "           9/18/18 6:53  1                      0.329167\n",
      "           9/18/18 7:01  1                      0.334722\n",
      "           9/18/18 8:29  1                      0.395833\n",
      "\n",
      "[173 rows x 1 columns]\n"
     ]
    }
   ],
   "source": [
    "#find out the minimum values of abs_diff_days for each product_id at each order date and quantity\n",
    "group = join_table.groupby(['product_id','ordered_at','quantity_ordered'])['abs_diff_days'].min()\n",
    "group_frame = pd.DataFrame(group)\n",
    "print(group_frame)"
   ]
  },
  {
   "cell_type": "code",
   "execution_count": 5,
   "id": "8ac4a136",
   "metadata": {},
   "outputs": [
    {
     "name": "stdout",
     "output_type": "stream",
     "text": [
      "     product_id     ordered_at  abs_diff_days  quantity_ordered  old_price  \\\n",
      "0            64  9/11/18 19:32       1.121528                 1     270000   \n",
      "1            64  9/12/18 13:23       1.865278                 1     270000   \n",
      "2            64  9/12/18 16:00       1.974306                 1     270000   \n",
      "3            64  9/14/18 20:10       4.147917                 1     270000   \n",
      "4       3954203  9/11/18 11:11       0.029861                 1      60000   \n",
      "..          ...            ...            ...               ...        ...   \n",
      "170     4085861  9/18/18 20:54       0.913194                 1      53500   \n",
      "171     4085861   9/18/18 6:47       0.325000                 1      53500   \n",
      "172     4085861   9/18/18 6:53       0.329167                 1      53500   \n",
      "173     4085861   9/18/18 7:01       0.334722                 1      53500   \n",
      "174     4085861   9/18/18 8:29       0.395833                 1      53500   \n",
      "\n",
      "     new_price     updated_at  diff_days  \n",
      "0       239000  9/10/18 16:37   1.121528  \n",
      "1       239000  9/10/18 16:37   1.865278  \n",
      "2       239000  9/10/18 16:37   1.974306  \n",
      "3       239000  9/10/18 16:37   4.147917  \n",
      "4        64000  9/11/18 11:54  -0.029861  \n",
      "..         ...            ...        ...  \n",
      "170      52000  9/17/18 22:59   0.913194  \n",
      "171      52000  9/17/18 22:59   0.325000  \n",
      "172      52000  9/17/18 22:59   0.329167  \n",
      "173      52000  9/17/18 22:59   0.334722  \n",
      "174      52000  9/17/18 22:59   0.395833  \n",
      "\n",
      "[175 rows x 8 columns]\n"
     ]
    }
   ],
   "source": [
    "#join group_frame with join_table to take the new and old price\n",
    "second_join = group_frame.merge(join_table,on = ['product_id','ordered_at','abs_diff_days'],how = 'left')\n",
    "print(second_join)"
   ]
  },
  {
   "cell_type": "code",
   "execution_count": 6,
   "id": "544cd346",
   "metadata": {},
   "outputs": [
    {
     "name": "stdout",
     "output_type": "stream",
     "text": [
      "     product_id     ordered_at  abs_diff_days  quantity_ordered  old_price  \\\n",
      "0            64  9/11/18 19:32       1.121528                 1     270000   \n",
      "1            64  9/12/18 13:23       1.865278                 1     270000   \n",
      "2            64  9/12/18 16:00       1.974306                 1     270000   \n",
      "3            64  9/14/18 20:10       4.147917                 1     270000   \n",
      "4       3954203  9/11/18 11:11       0.029861                 1      60000   \n",
      "..          ...            ...            ...               ...        ...   \n",
      "170     4085861  9/18/18 20:54       0.913194                 1      53500   \n",
      "171     4085861   9/18/18 6:47       0.325000                 1      53500   \n",
      "172     4085861   9/18/18 6:53       0.329167                 1      53500   \n",
      "173     4085861   9/18/18 7:01       0.334722                 1      53500   \n",
      "174     4085861   9/18/18 8:29       0.395833                 1      53500   \n",
      "\n",
      "     new_price     updated_at  diff_days     price  \n",
      "0       239000  9/10/18 16:37   1.121528  239000.0  \n",
      "1       239000  9/10/18 16:37   1.865278  239000.0  \n",
      "2       239000  9/10/18 16:37   1.974306  239000.0  \n",
      "3       239000  9/10/18 16:37   4.147917  239000.0  \n",
      "4        64000  9/11/18 11:54  -0.029861   60000.0  \n",
      "..         ...            ...        ...       ...  \n",
      "170      52000  9/17/18 22:59   0.913194   52000.0  \n",
      "171      52000  9/17/18 22:59   0.325000   52000.0  \n",
      "172      52000  9/17/18 22:59   0.329167   52000.0  \n",
      "173      52000  9/17/18 22:59   0.334722   52000.0  \n",
      "174      52000  9/17/18 22:59   0.395833   52000.0  \n",
      "\n",
      "[175 rows x 9 columns]\n"
     ]
    }
   ],
   "source": [
    "#calculate the price at the order date\n",
    "second_join.loc[second_join['diff_days']<0,'price'] = second_join['old_price']\n",
    "second_join.loc[second_join['diff_days']>=0,'price'] = second_join['new_price']\n",
    "print(second_join)"
   ]
  },
  {
   "cell_type": "code",
   "execution_count": 7,
   "id": "0f5a3b5f",
   "metadata": {},
   "outputs": [
    {
     "name": "stdout",
     "output_type": "stream",
     "text": [
      "     product_id     ordered_at  abs_diff_days  quantity_ordered  old_price  \\\n",
      "0            64  9/11/18 19:32       1.121528                 1     270000   \n",
      "1            64  9/12/18 13:23       1.865278                 1     270000   \n",
      "2            64  9/12/18 16:00       1.974306                 1     270000   \n",
      "3            64  9/14/18 20:10       4.147917                 1     270000   \n",
      "4       3954203  9/11/18 11:11       0.029861                 1      60000   \n",
      "..          ...            ...            ...               ...        ...   \n",
      "170     4085861  9/18/18 20:54       0.913194                 1      53500   \n",
      "171     4085861   9/18/18 6:47       0.325000                 1      53500   \n",
      "172     4085861   9/18/18 6:53       0.329167                 1      53500   \n",
      "173     4085861   9/18/18 7:01       0.334722                 1      53500   \n",
      "174     4085861   9/18/18 8:29       0.395833                 1      53500   \n",
      "\n",
      "     new_price     updated_at  diff_days     price   revenue  \n",
      "0       239000  9/10/18 16:37   1.121528  239000.0  239000.0  \n",
      "1       239000  9/10/18 16:37   1.865278  239000.0  239000.0  \n",
      "2       239000  9/10/18 16:37   1.974306  239000.0  239000.0  \n",
      "3       239000  9/10/18 16:37   4.147917  239000.0  239000.0  \n",
      "4        64000  9/11/18 11:54  -0.029861   60000.0   60000.0  \n",
      "..         ...            ...        ...       ...       ...  \n",
      "170      52000  9/17/18 22:59   0.913194   52000.0   52000.0  \n",
      "171      52000  9/17/18 22:59   0.325000   52000.0   52000.0  \n",
      "172      52000  9/17/18 22:59   0.329167   52000.0   52000.0  \n",
      "173      52000  9/17/18 22:59   0.334722   52000.0   52000.0  \n",
      "174      52000  9/17/18 22:59   0.395833   52000.0   52000.0  \n",
      "\n",
      "[175 rows x 10 columns]\n"
     ]
    }
   ],
   "source": [
    "#calculate revenue =  quantity * price\n",
    "second_join['revenue'] = second_join['quantity_ordered'] * second_join['price']\n",
    "print(second_join)"
   ]
  },
  {
   "cell_type": "code",
   "execution_count": 8,
   "id": "e784dc80",
   "metadata": {
    "scrolled": true
   },
   "outputs": [
    {
     "name": "stdout",
     "output_type": "stream",
     "text": [
      "product_id  price   \n",
      "64          239000.0     956000.0\n",
      "3954203     57500.0       57500.0\n",
      "            60000.0      180000.0\n",
      "            64000.0      640000.0\n",
      "3998909     15500.0       15500.0\n",
      "            16500.0      231000.0\n",
      "            17000.0       34000.0\n",
      "4085861     52000.0     1040000.0\n",
      "            53500.0     2140000.0\n",
      "            58000.0     2204000.0\n",
      "            60000.0      180000.0\n",
      "            62500.0     1812500.0\n",
      "            67000.0      871000.0\n",
      "Name: revenue, dtype: float64\n"
     ]
    }
   ],
   "source": [
    "#calculate revenue of each product_id at each price\n",
    "result = second_join.groupby(['product_id','price'])['revenue'].sum()\n",
    "print(result)"
   ]
  }
 ],
 "metadata": {
  "kernelspec": {
   "display_name": "Python 3 (ipykernel)",
   "language": "python",
   "name": "python3"
  },
  "language_info": {
   "codemirror_mode": {
    "name": "ipython",
    "version": 3
   },
   "file_extension": ".py",
   "mimetype": "text/x-python",
   "name": "python",
   "nbconvert_exporter": "python",
   "pygments_lexer": "ipython3",
   "version": "3.9.12"
  }
 },
 "nbformat": 4,
 "nbformat_minor": 5
}
